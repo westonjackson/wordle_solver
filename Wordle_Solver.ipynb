{
  "cells": [
    {
      "cell_type": "markdown",
      "metadata": {
        "id": "view-in-github",
        "colab_type": "text"
      },
      "source": [
        "<a href=\"https://colab.research.google.com/github/westonjackson/wordle_solver/blob/main/Wordle_Solver.ipynb\" target=\"_parent\"><img src=\"https://colab.research.google.com/assets/colab-badge.svg\" alt=\"Open In Colab\"/></a>"
      ]
    },
    {
      "cell_type": "markdown",
      "metadata": {
        "id": "LllgHmPw8-nN"
      },
      "source": [
        "# Import Corpus"
      ]
    },
    {
      "cell_type": "code",
      "execution_count": 1,
      "metadata": {
        "colab": {
          "base_uri": "https://localhost:8080/"
        },
        "id": "NVtAx6MAmXVD",
        "outputId": "884d0f62-ece7-41bd-8263-f23cf5a54a41"
      },
      "outputs": [
        {
          "output_type": "stream",
          "name": "stdout",
          "text": [
            "[nltk_data] Downloading package brown to /root/nltk_data...\n",
            "[nltk_data]   Unzipping corpora/brown.zip.\n"
          ]
        },
        {
          "output_type": "execute_result",
          "data": {
            "text/plain": [
              "True"
            ]
          },
          "metadata": {},
          "execution_count": 1
        }
      ],
      "source": [
        "import nltk\n",
        "from collections import defaultdict\n",
        "import pandas as pd\n",
        "import numpy as np\n",
        "import matplotlib.pyplot as plt\n",
        "import random\n",
        "nltk.download('brown')"
      ]
    },
    {
      "cell_type": "code",
      "execution_count": 2,
      "metadata": {
        "collapsed": true,
        "id": "6E4exkksxv_C"
      },
      "outputs": [],
      "source": [
        "from nltk.corpus import brown\n",
        "from nltk import FreqDist"
      ]
    },
    {
      "cell_type": "markdown",
      "metadata": {
        "id": "DcoetN_h-1Eh"
      },
      "source": [
        "# Wordle Solver Utils"
      ]
    },
    {
      "cell_type": "code",
      "execution_count": 21,
      "metadata": {
        "id": "6R2GqfovaUp-"
      },
      "outputs": [],
      "source": [
        "# we can only consider five-letter-words\n",
        "def is_valid_wordle(s):\n",
        "  return (len(s) == 5) and s.isalpha()\n",
        "\n",
        "# initialize candidates from corpus\n",
        "def initialize_candidates():\n",
        "  frequency_list = FreqDist(i.lower() for i in brown.words())\n",
        "  return [s for s, _ in frequency_list.most_common() if is_valid_wordle(s)]\n",
        "\n",
        "def evaluate(word, target):\n",
        "  result = []\n",
        "  target_counts = defaultdict(int)\n",
        "  for i in range(5):\n",
        "    c = word[i]\n",
        "    t = target[i]\n",
        "    if t == c:\n",
        "      result.append(2)\n",
        "    else:\n",
        "      result.append(0)\n",
        "      target_counts[t] += 1\n",
        "  \n",
        "  for i in range(5):\n",
        "    c = word[i]\n",
        "    if result[i] == 2:\n",
        "      continue\n",
        "    if target_counts[c] > 0:\n",
        "      target_counts[c] -= 1\n",
        "      result[i] = 1\n",
        "\n",
        "  return tuple(result)\n",
        "\n",
        "def prune_wordle_candidates(candidate_df, word, result):\n",
        "  cols = candidate_df.columns.tolist()\n",
        "  for i in range(5):\n",
        "    c = word[i]\n",
        "    if result[i] == 2:\n",
        "      cols.remove(i)\n",
        "      candidate_df = candidate_df[candidate_df[i] == c]\n",
        "    else:\n",
        "      candidate_df = candidate_df[candidate_df[i] != c]\n",
        "\n",
        "  candidate_df = candidate_df.copy()\n",
        "  candidate_df['word'] = candidate_df[cols].agg(''.join, axis=1)\n",
        "  for i in range(5):\n",
        "    c = word[i]\n",
        "    if result[i] == 1:\n",
        "      candidate_df['word'] = candidate_df['word'].str.replace(c, '', 1)\n",
        "      cols.remove(i)\n",
        "      candidate_df = candidate_df[candidate_df.word.map(len) == len(cols)]\n",
        "      candidate_df = candidate_df.copy()\n",
        "\n",
        "  for i in cols:\n",
        "    c = word[i]\n",
        "    candidate_df = candidate_df[~candidate_df.word.str.contains(c)]\n",
        "  del candidate_df['word']\n",
        "  return candidate_df\n",
        "\n",
        "ALL_WORDS = FreqDist(i for i in brown.words()).most_common()\n",
        "ALL_WORDS = [s for s, _ in ALL_WORDS if s.isalpha() and s[0].islower()]\n",
        "FOUR_LETTER_WORDS = [s for s in ALL_WORDS if len(s) == 4]\n",
        "FIVE_LETTER_WORDS = [s for s in ALL_WORDS if len(s) == 5]\n",
        "# lets attempt to remove some of the plurals...\n",
        "ALL_CANDIDATES = [s for s in FIVE_LETTER_WORDS if not (s[-1] == 's' and s[:4] in FOUR_LETTER_WORDS)]\n",
        "FREQUENCY_DICT = {k:v for k,v in FreqDist(i for i in brown.words()).most_common() if k in ALL_CANDIDATES}"
      ]
    },
    {
      "cell_type": "markdown",
      "metadata": {
        "id": "JkuVs02kawqX"
      },
      "source": [
        "# Strategies"
      ]
    },
    {
      "cell_type": "code",
      "execution_count": 34,
      "metadata": {
        "id": "w0rlrXXFZLbd"
      },
      "outputs": [],
      "source": [
        "\"\"\"\n",
        "Chooses the candidate that minimizes the max number of remaining candidates \n",
        "over all possible target words.\n",
        "\"\"\"\n",
        "def minimax_strategy(word_list, is_initial_round=False):\n",
        "  if is_initial_round:\n",
        "    return \"saner\"\n",
        "\n",
        "  candidate = None\n",
        "  min_remaining = 0\n",
        "  for word in word_list:\n",
        "    cache = set()\n",
        "    max_remaining = 0\n",
        "    for target in word_list:\n",
        "      result = evaluate(word, target)\n",
        "      if result not in cache:\n",
        "        cache.add(result)\n",
        "        remaining = prune_wordle_candidates(candidate_df.copy(), word, result)\n",
        "        if len(remaining) > max_remaining:\n",
        "          max_remaining = len(remaining)\n",
        "\n",
        "    if max_remaining <= min_remaining or candidate is None:\n",
        "      min_remaining = max_remaining\n",
        "      candidate = word\n",
        "  return candidate\n",
        "\n",
        "\"\"\"\n",
        "Chooses the most common candidate word.\n",
        "\"\"\"\n",
        "def common_strategy(word_list, is_initial_round=False):\n",
        "    if is_initial_round:\n",
        "      return \"saner\"\n",
        "\n",
        "    candidate = None\n",
        "    max_so_far = 0\n",
        "    for word in word_list:\n",
        "      freq = FREQUENCY_DICT[word]\n",
        "      if freq > max_so_far or candidate is None:\n",
        "        max_so_far = freq\n",
        "        candidate = word\n",
        "    return candidate\n",
        "\n",
        "\"\"\"\n",
        "Create a distribution from the frequency of letters in each position (1...5) via \n",
        "the corpus. Choose the candidate that maximizes the joint probability.\n",
        "\"\"\"\n",
        "def probabilistic_strategy(word_list, is_initial_round=False):\n",
        "  if is_initial_round:\n",
        "    return \"saner\"\n",
        "\n",
        "  df = pd.DataFrame(map(list, word_list))\n",
        "  word_df = pd.DataFrame()\n",
        "  for col in df.columns:\n",
        "    word_df[col] = df[col] + (df[list(range(col + 1))] == pd.DataFrame([df[col].tolist()] * (col + 1)).T).sum(axis=1).astype(str)\n",
        "  rows = [word_df[column].value_counts() for column in df.columns]\n",
        "  probability_df = pd.DataFrame(rows).fillna(0).astype(int)\n",
        "\n",
        "  max_score = 0\n",
        "  total_score = 0\n",
        "  candidate = None\n",
        "  for row in word_df.itertuples():\n",
        "    index = list(row)[1:]\n",
        "    word = \"\".join([i for i in \"\".join(index) if not i.isdigit()])\n",
        "    score = np.diag(probability_df.loc[probability_df.index, index]).sum()\n",
        "    if (score > max_score) or (candidate is None) \\\n",
        "      or (score == max_score and FREQUENCY_DICT[word] > FREQUENCY_DICT[candidate]):\n",
        "      max_score = score\n",
        "      candidate = word\n",
        "    total_score += score\n",
        "  return candidate\n",
        "\n",
        "\"\"\"\n",
        "Chooses a random candidate word.\n",
        "\"\"\"\n",
        "def random_strategy(word_list, is_initial_round=False):\n",
        "  if is_initial_round:\n",
        "    return \"saner\"\n",
        "\n",
        "  return random.choice(word_list)"
      ]
    },
    {
      "cell_type": "code",
      "execution_count": 35,
      "metadata": {
        "id": "1Th3yOj2cOhw"
      },
      "outputs": [],
      "source": [
        "strategy_dict = {\n",
        "    \"PROBABILISTIC\": probabilistic_strategy,\n",
        "    \"RANDOM\":  random_strategy,\n",
        "    \"COMMON\": common_strategy,\n",
        "    \"MINIMAX\": minimax_strategy,\n",
        "}"
      ]
    },
    {
      "cell_type": "markdown",
      "metadata": {
        "id": "8xd7vBEUNhVa"
      },
      "source": [
        "# Wordle Simulator"
      ]
    },
    {
      "cell_type": "code",
      "execution_count": null,
      "metadata": {
        "colab": {
          "base_uri": "https://localhost:8080/",
          "height": 1000
        },
        "id": "YP3JRD5wJTBs",
        "outputId": "7169cd39-2964-43e5-a136-4e4eec183ebf"
      },
      "outputs": [
        {
          "output_type": "stream",
          "name": "stdout",
          "text": [
            "PROBABILISTIC 0 rounds 4 which 1\n",
            "PROBABILISTIC 100 rounds 4 doing 1\n",
            "PROBABILISTIC 200 rounds 4 river 2\n",
            "PROBABILISTIC 300 rounds 3 stone 3\n",
            "PROBABILISTIC 400 rounds 3 hurry 2\n",
            "PROBABILISTIC 500 rounds 4 pitch 4\n",
            "PROBABILISTIC 600 rounds 3 serum 2\n",
            "PROBABILISTIC 700 rounds 3 blond 2\n",
            "PROBABILISTIC 800 rounds 4 flour 1\n",
            "PROBABILISTIC 900 rounds 3 guise 2\n",
            "PROBABILISTIC 1000 rounds 2 safer 3\n",
            "PROBABILISTIC 1100 rounds 3 shine 2\n",
            "PROBABILISTIC 1200 rounds 4 bully 2\n",
            "PROBABILISTIC 1300 rounds 5 dryer 1\n",
            "PROBABILISTIC 1400 rounds 4 sprue 1\n",
            "PROBABILISTIC 1500 rounds 4 craze 2\n",
            "PROBABILISTIC 1600 rounds 3 amigo 3\n",
            "PROBABILISTIC 1700 rounds 5 mitre 1\n",
            "PROBABILISTIC 1800 rounds 3 waive 6\n",
            "PROBABILISTIC 1900 rounds 3 thatt 1\n",
            "PROBABILISTIC 2000 rounds 3 inane 1\n",
            "PROBABILISTIC 2100 rounds 5 befoh 1\n",
            "PROBABILISTIC 2200 rounds 4 hubba 1\n",
            "PROBABILISTIC AVERAGE: 3.6657608695652173 +/- 0.038388542417928495\n"
          ]
        },
        {
          "output_type": "display_data",
          "data": {
            "image/png": "[encoded data removed]",
            "text/plain": [
              "<Figure size 432x288 with 1 Axes>"
            ]
          },
          "metadata": {
            "needs_background": "light"
          }
        },
        {
          "output_type": "stream",
          "name": "stdout",
          "text": [
            "Hardest word(s):  ['hatch']\n",
            "9 rounds \n",
            "RANDOM 0 rounds 4 which 1\n",
            "RANDOM 100 rounds 4 doing 1\n",
            "RANDOM 200 rounds 5 river 2\n",
            "RANDOM 300 rounds 2 stone 10\n",
            "RANDOM 400 rounds 5 hurry 3\n",
            "RANDOM 500 rounds 4 pitch 1\n",
            "RANDOM 600 rounds 3 serum 1\n",
            "RANDOM 700 rounds 3 blond 1\n",
            "RANDOM 800 rounds 3 flour 2\n",
            "RANDOM 900 rounds 4 guise 1\n",
            "RANDOM 1000 rounds 3 safer 2\n",
            "RANDOM 1100 rounds 5 shine 1\n",
            "RANDOM 1200 rounds 4 bully 1\n",
            "RANDOM 1300 rounds 4 dryer 3\n",
            "RANDOM 1400 rounds 3 sprue 1\n",
            "RANDOM 1500 rounds 4 craze 2\n",
            "RANDOM 1600 rounds 5 amigo 1\n",
            "RANDOM 1700 rounds 5 mitre 1\n",
            "RANDOM 1800 rounds 4 waive 1\n",
            "RANDOM 1900 rounds 4 thatt 2\n",
            "RANDOM 2000 rounds 4 inane 1\n",
            "RANDOM 2100 rounds 4 befoh 1\n",
            "RANDOM 2200 rounds 3 hubba 8\n",
            "RANDOM AVERAGE: 3.8505434782608696 +/- 0.04409429784476537\n"
          ]
        },
        {
          "output_type": "display_data",
          "data": {
            "image/png": "[encoded data removed]",
            "text/plain": [
              "<Figure size 432x288 with 1 Axes>"
            ]
          },
          "metadata": {
            "needs_background": "light"
          }
        },
        {
          "output_type": "stream",
          "name": "stdout",
          "text": [
            "Hardest word(s):  ['paper', 'table', 'watch', 'prize', 'grove', 'gaped', 'baker', 'piped', 'egged', 'bower']\n",
            "8 rounds \n",
            "COMMON 0 rounds 2 which 164\n",
            "COMMON 100 rounds 3 doing 1\n",
            "COMMON 200 rounds 3 river 29\n",
            "COMMON 300 rounds 3 stone 1\n",
            "COMMON 400 rounds 4 hurry 1\n",
            "COMMON 500 rounds 3 pitch 3\n",
            "COMMON 600 rounds 3 serum 2\n",
            "COMMON 700 rounds 3 blond 1\n",
            "COMMON 800 rounds 3 flour 1\n",
            "COMMON 900 rounds 4 guise 1\n",
            "COMMON 1000 rounds 2 safer 3\n",
            "COMMON 1100 rounds 4 shine 1\n",
            "COMMON 1200 rounds 5 bully 1\n",
            "COMMON 1300 rounds 5 dryer 1\n",
            "COMMON 1400 rounds 4 sprue 1\n",
            "COMMON 1500 rounds 5 craze 1\n",
            "COMMON 1600 rounds 4 amigo 1\n",
            "COMMON 1700 rounds 3 mitre 1\n",
            "COMMON 1800 rounds 3 waive 1\n",
            "COMMON 1900 rounds 3 thatt 1\n",
            "COMMON 2000 rounds 4 inane 1\n",
            "COMMON 2100 rounds 4 befoh 1\n",
            "COMMON 2200 rounds 3 hubba 1\n",
            "COMMON AVERAGE: 3.7794384057971016 +/- 0.04220051780557648\n"
          ]
        },
        {
          "output_type": "display_data",
          "data": {
            "image/png": "[encoded data removed]",
            "text/plain": [
              "<Figure size 432x288 with 1 Axes>"
            ]
          },
          "metadata": {
            "needs_background": "light"
          }
        },
        {
          "output_type": "stream",
          "name": "stdout",
          "text": [
            "Hardest word(s):  ['hatch']\n",
            "9 rounds \n"
          ]
        }
      ],
      "source": [
        "PROD_TARGET = \"\"\n",
        "PROD_STRATEGY = \"\"\n",
        "\n",
        "for name, strategy_fn in strategy_dict.items():\n",
        "  if PROD_STRATEGY and name != PROD_STRATEGY:\n",
        "    continue\n",
        "\n",
        "  results = []\n",
        "  for i, target in enumerate(ALL_CANDIDATES):\n",
        "    if PROD_TARGET and target != PROD_TARGET:\n",
        "      continue\n",
        "\n",
        "    word_df = pd.DataFrame(ALL_CANDIDATES, columns=[\"words\"])\n",
        "    candidate_df = pd.DataFrame(word_df[\"words\"].map(list).to_list())\n",
        "    counter = 0\n",
        "    while True:\n",
        "      word = strategy_fn(word_df.words.tolist(), counter == 0)\n",
        "      counter += 1\n",
        "      assert target in word_df.words.tolist(), f\"{target} {word_df.words.tolist()}\"\n",
        "      result = evaluate(word, target)\n",
        "      if result == (2,2,2,2,2):\n",
        "        results.append([target, counter])\n",
        "        break\n",
        "\n",
        "      candidate_df = prune_wordle_candidates(candidate_df, word, result)\n",
        "      word_df = word_df.loc[candidate_df.index]\n",
        "      #print(f\"{name} {i} rounds {counter} {word} {target} {len(candidate_df)}\")\n",
        "    \n",
        "    if i % 100 == 0:\n",
        "      print(f\"{name} {i} rounds {counter} {target} {len(candidate_df)}\")\n",
        "  results_df = pd.DataFrame(results, columns=[\"target\", \"rounds\"])\n",
        "  print(f\"{name} AVERAGE: {results_df.rounds.mean()} +/- {2 * results_df.rounds.sem()}\")\n",
        "  counts_df = results_df.groupby(\"rounds\").count().reset_index()\n",
        "  plt.bar(counts_df[\"rounds\"], counts_df[\"target\"])\n",
        "  plt.show()\n",
        "  print(\"Hardest word(s): \", results_df.loc[results_df.rounds == results_df.rounds.max(), \"target\"].tolist())\n",
        "  print(f\"{results_df.rounds.max()} rounds \")"
      ]
    },
    {
      "cell_type": "markdown",
      "source": [
        "# Solver Program"
      ],
      "metadata": {
        "id": "plplzOFHNfnW"
      }
    },
    {
      "cell_type": "code",
      "execution_count": 10,
      "metadata": {
        "id": "ewIrtEZ5rdCu",
        "colab": {
          "base_uri": "https://localhost:8080/"
        },
        "outputId": "3e0172f6-9e33-48c3-f25c-8b193fa51b7f"
      },
      "outputs": [
        {
          "output_type": "stream",
          "name": "stdout",
          "text": [
            "\n",
            "Candidates remaining = 4072\n",
            "Best Candidate: cares\n",
            "\n",
            "Enter your chosen five-letter word (i.e. cares): cares\n",
            "\n",
            "0 = Miss, 1 = Partial Match, 2 = Perfect Match \n",
            "Enter your result as a comma-separated list (i.e. 0,0,0,1,2): 1,2,0,0,0\n",
            "\n",
            "Candidates remaining = 26\n",
            "Best Candidate: match\n",
            "\n",
            "Enter your chosen five-letter word (i.e. match): match\n",
            "\n",
            "0 = Miss, 1 = Partial Match, 2 = Perfect Match \n",
            "Enter your result as a comma-separated list (i.e. 0,0,0,1,2): 0,2,0,1,0\n",
            "\n",
            "Candidates remaining = 5\n",
            "Best Candidate: jacky\n",
            "\n",
            "Enter your chosen five-letter word (i.e. jacky): jacky\n",
            "\n",
            "0 = Miss, 1 = Partial Match, 2 = Perfect Match \n",
            "Enter your result as a comma-separated list (i.e. 0,0,0,1,2): 0,2,1,0,0\n",
            "\n",
            "Candidates remaining = 1\n",
            "Best Candidate: panic\n",
            "\n",
            "Enter your chosen five-letter word (i.e. panic): panic\n",
            "\n",
            "0 = Miss, 1 = Partial Match, 2 = Perfect Match \n",
            "Enter your result as a comma-separated list (i.e. 0,0,0,1,2): 2,2,2,2,2\n",
            "Congrats! The word was panic\n"
          ]
        }
      ],
      "source": [
        "PROD_STRATEGY = \"PROBABILISTIC\"\n",
        "\n",
        "strategy_fn = strategy_dict[PROD_STRATEGY]\n",
        "word_df = pd.DataFrame(ALL_CANDIDATES, columns=[\"words\"])\n",
        "candidate_df = pd.DataFrame(word_df[\"words\"].map(list).to_list())\n",
        "counter = 0\n",
        "while True:\n",
        "  if len(word_df) == 0:\n",
        "      print(\"Something went wrong, there are no candidates left...\")\n",
        "      print(\"Aborting...\")\n",
        "      break\n",
        "\n",
        "  candidate = strategy_fn(word_df.words.tolist(), counter == 0)\n",
        "  counter += 1\n",
        "  print(\n",
        "      f\"\\nCandidates remaining = {len(word_df)}\"\n",
        "      f\"\\nBest Candidate: {candidate}\")\n",
        "\n",
        "  # parse chosen word from user\n",
        "  is_valid_word = False\n",
        "  while not is_valid_word:\n",
        "    word = input(f\"\\nEnter your chosen five-letter word (i.e. {candidate}): \")\n",
        "    is_valid_word = (len(word) == 5)\n",
        "    if not is_valid_word:\n",
        "      print(\"Improper Input!\")\n",
        "\n",
        "  # parse chosen result from user\n",
        "  is_valid_result = False\n",
        "  while not is_valid_result:\n",
        "    result = input(\n",
        "        \"\\n0 = Miss, 1 = Partial Match, 2 = Perfect Match \"\n",
        "        \"\\nEnter your result as a comma-separated list \"\n",
        "        \"(i.e. 0,0,0,1,2): \")\n",
        "    result = tuple(map(int, \"\".join(result.split()).split(\",\")))\n",
        "    is_valid_result = (len(result) == 5) and all([i >= 0 and i <= 2 for i in result])\n",
        "    if not is_valid_result:\n",
        "      print(\"Improper Input!\")\n",
        "\n",
        "  # you won wordle\n",
        "  if all([i == 2 for i in result]):\n",
        "    print(f\"Congrats! The word was {word}\")\n",
        "    break\n",
        "\n",
        "  candidate_df = prune_wordle_candidates(candidate_df, word, result)\n",
        "  word_df = word_df.loc[candidate_df.index]"
      ]
    }
  ],
  "metadata": {
    "colab": {
      "collapsed_sections": [],
      "name": "Wordle Solver.ipynb",
      "provenance": [],
      "authorship_tag": "ABX9TyO4wHgxXjsyVjZMF6S/meQ3",
      "include_colab_link": true
    },
    "kernelspec": {
      "display_name": "Python 3",
      "name": "python3"
    },
    "language_info": {
      "name": "python"
    }
  },
  "nbformat": 4,
  "nbformat_minor": 0
}