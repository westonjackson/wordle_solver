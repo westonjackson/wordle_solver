{
  "nbformat": 4,
  "nbformat_minor": 0,
  "metadata": {
    "colab": {
      "name": "Wordle Solver.ipynb",
      "provenance": []
    },
    "kernelspec": {
      "name": "python3",
      "display_name": "Python 3"
    },
    "language_info": {
      "name": "python"
    }
  },
  "cells": [
    {
      "cell_type": "markdown",
      "source": [
        "# Import Corpus"
      ],
      "metadata": {
        "id": "LllgHmPw8-nN"
      }
    },
    {
      "cell_type": "code",
      "source": [
        "import nltk\n",
        "from nltk import FreqDist\n",
        "from collections import defaultdict\n",
        "import pandas as pd\n",
        "import numpy as np"
      ],
      "metadata": {
        "id": "NVtAx6MAmXVD"
      },
      "execution_count": 1,
      "outputs": []
    },
    {
      "cell_type": "code",
      "source": [
        "nltk.download('brown')\n",
        "from nltk.corpus import brown\n",
        "frequency_list = FreqDist(i.lower() for i in brown.words())\n",
        "frequency_dict = dict(frequency_list.most_common())"
      ],
      "metadata": {
        "colab": {
          "base_uri": "https://localhost:8080/"
        },
        "id": "6E4exkksxv_C",
        "outputId": "edac83a9-4fe3-4ded-c953-b1dead1f9e74"
      },
      "execution_count": 2,
      "outputs": [
        {
          "output_type": "stream",
          "name": "stdout",
          "text": [
            "[nltk_data] Downloading package brown to /root/nltk_data...\n",
            "[nltk_data]   Package brown is already up-to-date!\n"
          ]
        }
      ]
    },
    {
      "cell_type": "markdown",
      "source": [
        "# Wordle Solver Utils"
      ],
      "metadata": {
        "id": "DcoetN_h-1Eh"
      }
    },
    {
      "cell_type": "code",
      "source": [
        "# we can only consider five-letter-words with unique characters\n",
        "def is_valid_wordle(s):\n",
        "  return (len(s) == 5) and (len(list(s)) == len(set(s))) and s.isalpha()\n",
        "\n",
        "# initialize candidates from corpus\n",
        "def initialize_candidates():\n",
        "  return [s for s, _ in frequency_list.most_common() if is_valid_wordle(s)]\n",
        "\n",
        "# create a df with of character counts by position\n",
        "def initialize_wordle_df(candidates):\n",
        "  df = pd.DataFrame(candidates, columns=['words'])\n",
        "  df['words'] = df['words'].map(list)\n",
        "  df = pd.DataFrame(df[\"words\"].to_list(), columns=['c1', 'c2', 'c3', 'c4', 'c5'])\n",
        "  rows = [df[column].value_counts() for column in df.columns]\n",
        "  return pd.DataFrame(rows).fillna(0).astype(int)\n",
        "\n",
        "# there is a prior distribution over the chars by position; we choose the\n",
        "# candidate that maximizes the joint probability across all positions\n",
        "def choose_wordle_candidate(wordle_df):\n",
        "  max_score = 0\n",
        "  total_score = 0\n",
        "  best_candidate = None\n",
        "  for candidate in candidates:\n",
        "    score = np.diag(wordle_df.loc[wordle_df.index, list(candidate)]).sum()\n",
        "    if (score > max_score) or (best_candidate is None) \\\n",
        "      or (score == max_score and frequency_dict[candidate] > frequency_dict[best_candidate]):\n",
        "      max_score = score\n",
        "      best_candidate = candidate\n",
        "    total_score += score\n",
        "  return best_candidate, max_score, total_score\n",
        "\n",
        "# use the result array to prune the remaining candidates\n",
        "def prune_wordle_df(candidates, word, result):\n",
        "  required_chars = {c for i, c in enumerate(word) if result[i] >= 1}\n",
        "  invalid_chars = {c for i, c in enumerate(word) if result[i] == 0}\n",
        "\n",
        "  valid_words = []\n",
        "  for candidate in candidates:\n",
        "    # candidate cannot contain any invalid chars\n",
        "    if len(invalid_chars.intersection(set(candidate))) > 0:\n",
        "      continue\n",
        "\n",
        "    # candidate must contain any valid chars\n",
        "    if len(required_chars.intersection(set(candidate))) != len(required_chars):\n",
        "      continue\n",
        "\n",
        "    is_valid = True\n",
        "    for i, c in enumerate(word):\n",
        "      # character cannot exactly match if partial match\n",
        "      if candidate[i] == word[i] and result[i] == 1:\n",
        "        is_valid = False\n",
        "        break\n",
        "      # character must exactly match if perfect match\n",
        "      if candidate[i] != word[i] and result[i] == 2:\n",
        "        is_valid = False\n",
        "        break\n",
        "\n",
        "    if not is_valid:\n",
        "      continue\n",
        "\n",
        "    valid_words.append(candidate)\n",
        "  return valid_words\n",
        "\n",
        "\n",
        "def query_wordle(best_candidate):\n",
        "  return wordle_cache[best_candidate]"
      ],
      "metadata": {
        "id": "MIhnUfw6mcg5"
      },
      "execution_count": 5,
      "outputs": []
    },
    {
      "cell_type": "markdown",
      "source": [
        "# Run Solver Below"
      ],
      "metadata": {
        "id": "jVGN_ach_Alt"
      }
    },
    {
      "cell_type": "code",
      "source": [
        "candidates = initialize_candidates()\n",
        "while True:\n",
        "  wordle_df = initialize_wordle_df(candidates)\n",
        "  if len(candidates) == 0:\n",
        "      print(\"Something went wrong, there are no candidates left...\")\n",
        "      print(\"Aborting...\")\n",
        "      break\n",
        "\n",
        "  best_candidate, score, total_score = choose_wordle_candidate(wordle_df)\n",
        "  print(\n",
        "      f\"\\nCandidates remaining = {len(candidates)}\"\n",
        "      f\"\\nBest Candidate: {best_candidate}\"\n",
        "      f\"\\nLikelihood: {(100 * score / total_score):.2f}%\")\n",
        "\n",
        "  # parse chosen word from user\n",
        "  is_valid_word = False\n",
        "  while not is_valid_word:\n",
        "    word = input(f\"\\nEnter your chosen five-letter word (i.e. {best_candidate}): \")\n",
        "    is_valid_word = (len(word) == 5)\n",
        "    if not is_valid_word:\n",
        "      print(\"Improper Input!\")\n",
        "\n",
        "  print(f\"Likelihood: {100 * np.diag(wordle_df.loc[wordle_df.index, list(word)]).sum() / total_score:.2f}%\")\n",
        "\n",
        "  # parse chosen result from user\n",
        "  is_valid_result = False\n",
        "  while not is_valid_result:\n",
        "    result = input(\n",
        "        \"\\n0 = Miss, 1 = Partial Match, 2 = Perfect Match \"\n",
        "        \"\\nEnter your result as a comma-separated list \"\n",
        "        \"(i.e. 0,0,0,1,2): \")\n",
        "    result = list(map(int, \"\".join(result.split()).split(\",\")))\n",
        "    is_valid_result = (len(result) == 5) and all([i >= 0 and i <= 2 for i in result])\n",
        "    if not is_valid_result:\n",
        "      print(\"Improper Input!\")\n",
        "\n",
        "  # you won wordle\n",
        "  if all([i == 2 for i in result]):\n",
        "    print(f\"Congrats! The word was {word}\")\n",
        "    break\n",
        "\n",
        "  candidates = prune_wordle_df(candidates, word, result)"
      ],
      "metadata": {
        "colab": {
          "base_uri": "https://localhost:8080/"
        },
        "id": "NhMxHEDtnWKs",
        "outputId": "464eed56-4f33-484a-9d78-61750c2a7e24"
      },
      "execution_count": 6,
      "outputs": [
        {
          "output_type": "stream",
          "name": "stdout",
          "text": [
            "\n",
            "Candidates remaining = 2684\n",
            "Best Candidate: cares\n",
            "Likelihood: 0.07%\n",
            "\n",
            "Enter your chosen five-letter word (i.e. brown): cares\n",
            "Likelihood: 0.07%\n",
            "\n",
            "0 = Miss, 1 = Partial Match, 2 = Perfect Match \n",
            "Enter your result as a comma-separated list (i.e. 0,0,0,1,2): 0,0,1,0,0\n",
            "\n",
            "Candidates remaining = 72\n",
            "Best Candidate: front\n",
            "Likelihood: 2.08%\n",
            "\n",
            "Enter your chosen five-letter word (i.e. brown): front\n",
            "Likelihood: 2.08%\n",
            "\n",
            "0 = Miss, 1 = Partial Match, 2 = Perfect Match \n",
            "Enter your result as a comma-separated list (i.e. 0,0,0,1,2): 0,2,0,2,0\n",
            "\n",
            "Candidates remaining = 6\n",
            "Best Candidate: drink\n",
            "Likelihood: 18.03%\n",
            "\n",
            "Enter your chosen five-letter word (i.e. brown): drink\n",
            "Likelihood: 18.03%\n",
            "\n",
            "0 = Miss, 1 = Partial Match, 2 = Perfect Match \n",
            "Enter your result as a comma-separated list (i.e. 0,0,0,1,2): 2,2,2,2\n",
            "Improper Input!\n",
            "\n",
            "0 = Miss, 1 = Partial Match, 2 = Perfect Match \n",
            "Enter your result as a comma-separated list (i.e. 0,0,0,1,2): 2,2,2,2,2\n",
            "Congrats! The word was drink\n"
          ]
        }
      ]
    }
  ]
}