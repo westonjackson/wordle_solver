{
  "cells": [
    {
      "cell_type": "markdown",
      "metadata": {
        "id": "view-in-github",
        "colab_type": "text"
      },
      "source": [
        "<a href=\"https://colab.research.google.com/github/westonjackson/wordle_solver/blob/main/Wordle_Solver.ipynb\" target=\"_parent\"><img src=\"https://colab.research.google.com/assets/colab-badge.svg\" alt=\"Open In Colab\"/></a>"
      ]
    },
    {
      "cell_type": "markdown",
      "metadata": {
        "id": "LllgHmPw8-nN"
      },
      "source": [
        "# Import Corpus"
      ]
    },
    {
      "cell_type": "code",
      "execution_count": 1,
      "metadata": {
        "id": "NVtAx6MAmXVD"
      },
      "outputs": [],
      "source": [
        "from nltk import FreqDist\n",
        "from collections import defaultdict\n",
        "import pandas as pd\n",
        "import numpy as np\n",
        "import matplotlib.pyplot as plt\n",
        "import random"
      ]
    },
    {
      "cell_type": "code",
      "execution_count": 2,
      "metadata": {
        "id": "ygMh9OQ8A93r"
      },
      "outputs": [],
      "source": [
        "from google.colab import auth\n",
        "auth.authenticate_user()\n",
        "import gspread\n",
        "from oauth2client.client import GoogleCredentials\n",
        "gc = gspread.authorize(GoogleCredentials.get_application_default())\n",
        "worksheet = gc.open('wordle_targets').sheet1\n",
        "rows = worksheet.get_all_values()\n",
        "targetlist = [x[0] for x in rows]"
      ]
    },
    {
      "cell_type": "code",
      "execution_count": 3,
      "metadata": {
        "id": "8-Qq7JEKAWMn"
      },
      "outputs": [],
      "source": [
        "from google.colab import auth\n",
        "auth.authenticate_user()\n",
        "import gspread\n",
        "from oauth2client.client import GoogleCredentials\n",
        "gc = gspread.authorize(GoogleCredentials.get_application_default())\n",
        "worksheet = gc.open('wordle_guesses').sheet1\n",
        "rows = worksheet.get_all_values()\n",
        "guesslist = [x[0] for x in rows]"
      ]
    },
    {
      "cell_type": "code",
      "execution_count": 4,
      "metadata": {
        "colab": {
          "base_uri": "https://localhost:8080/"
        },
        "id": "MfC6LzxBBbnc",
        "outputId": "5cbd8bb8-a36d-44b9-96ed-96db3e8ae271"
      },
      "outputs": [
        {
          "output_type": "execute_result",
          "data": {
            "text/plain": [
              "(10657, 2315)"
            ]
          },
          "metadata": {},
          "execution_count": 4
        }
      ],
      "source": [
        "len(guesslist), len(targetlist)"
      ]
    },
    {
      "cell_type": "markdown",
      "metadata": {
        "id": "DcoetN_h-1Eh"
      },
      "source": [
        "# Wordle Solver Utils"
      ]
    },
    {
      "cell_type": "code",
      "execution_count": 5,
      "metadata": {
        "id": "6R2GqfovaUp-"
      },
      "outputs": [],
      "source": [
        "# we can only consider five-letter-words\n",
        "def is_valid_wordle(s):\n",
        "  return (len(s) == 5) and s.isalpha()\n",
        "\n",
        "# initialize candidates from corpus\n",
        "def initialize_candidates():\n",
        "  frequency_list = FreqDist(targetlist)\n",
        "  return [s for s, _ in frequency_list.most_common() if is_valid_wordle(s)]\n",
        "\n",
        "def evaluate(word, target):\n",
        "  result = []\n",
        "  target_counts = defaultdict(int)\n",
        "  for i in range(5):\n",
        "    c = word[i]\n",
        "    t = target[i]\n",
        "    if t == c:\n",
        "      result.append(2)\n",
        "    else:\n",
        "      result.append(0)\n",
        "      target_counts[t] += 1\n",
        "  \n",
        "  for i in range(5):\n",
        "    c = word[i]\n",
        "    if result[i] == 2:\n",
        "      continue\n",
        "    if target_counts[c] > 0:\n",
        "      target_counts[c] -= 1\n",
        "      result[i] = 1\n",
        "\n",
        "  return tuple(result)\n",
        "\n",
        "def prune_wordle_candidates(candidate_df, word, result):\n",
        "  cols = candidate_df.columns.tolist()\n",
        "  for i in range(5):\n",
        "    c = word[i]\n",
        "    if result[i] == 2:\n",
        "      cols.remove(i)\n",
        "      candidate_df = candidate_df[candidate_df[i] == c]\n",
        "    else:\n",
        "      candidate_df = candidate_df[candidate_df[i] != c]\n",
        "\n",
        "  candidate_df = candidate_df.copy()\n",
        "  candidate_df['word'] = candidate_df[cols].agg(''.join, axis=1)\n",
        "  for i in range(5):\n",
        "    c = word[i]\n",
        "    if result[i] == 1:\n",
        "      candidate_df['word'] = candidate_df['word'].str.replace(c, '', 1)\n",
        "      cols.remove(i)\n",
        "      candidate_df = candidate_df[candidate_df.word.map(len) == len(cols)]\n",
        "      candidate_df = candidate_df.copy()\n",
        "\n",
        "  for i in cols:\n",
        "    c = word[i]\n",
        "    candidate_df = candidate_df[~candidate_df.word.str.contains(c)]\n",
        "  del candidate_df['word']\n",
        "  return candidate_df\n",
        "\n",
        "ALL_WORDS = FreqDist(targetlist).most_common()\n",
        "ALL_WORDS = [s for s, _ in ALL_WORDS if s.isalpha() and s[0].islower()]\n",
        "FOUR_LETTER_WORDS = [s for s in ALL_WORDS if len(s) == 4]\n",
        "FIVE_LETTER_WORDS = [s for s in ALL_WORDS if len(s) == 5]\n",
        "# lets attempt to remove some of the plurals...\n",
        "ALL_CANDIDATES = [s for s in FIVE_LETTER_WORDS if not (s[-1] == 's' and s[:4] in FOUR_LETTER_WORDS)]\n",
        "FREQUENCY_DICT = {k:v for k,v in FreqDist(targetlist).most_common() if k in ALL_CANDIDATES}"
      ]
    },
    {
      "cell_type": "markdown",
      "metadata": {
        "id": "JkuVs02kawqX"
      },
      "source": [
        "# Strategies"
      ]
    },
    {
      "cell_type": "code",
      "execution_count": 9,
      "metadata": {
        "id": "w0rlrXXFZLbd"
      },
      "outputs": [],
      "source": [
        "\"\"\"\n",
        "Chooses the candidate that minimizes the max number of remaining candidates \n",
        "over all possible target words.\n",
        "\"\"\"\n",
        "def minimax_strategy(word_list):\n",
        "  candidate = None\n",
        "  min_remaining = 0\n",
        "  for word in word_list:\n",
        "    cache = set()\n",
        "    max_remaining = 0\n",
        "    for target in word_list:\n",
        "      result = evaluate(word, target)\n",
        "      if result not in cache:\n",
        "        cache.add(result)\n",
        "        remaining = prune_wordle_candidates(candidate_df.copy(), word, result)\n",
        "        if len(remaining) > max_remaining:\n",
        "          max_remaining = len(remaining)\n",
        "\n",
        "    if max_remaining <= min_remaining or candidate is None:\n",
        "      min_remaining = max_remaining\n",
        "      candidate = word\n",
        "  return candidate\n",
        "\n",
        "\"\"\"\n",
        "Chooses the most common candidate word.\n",
        "\"\"\"\n",
        "def common_strategy(word_list):\n",
        "    candidate = None\n",
        "    max_so_far = 0\n",
        "    for word in word_list:\n",
        "      freq = FREQUENCY_DICT[word]\n",
        "      if freq > max_so_far or candidate is None:\n",
        "        max_so_far = freq\n",
        "        candidate = word\n",
        "    return candidate\n",
        "\n",
        "\"\"\"\n",
        "Create a distribution from the frequency of letters in each position (1...5) via \n",
        "the corpus. Choose the candidate that maximizes the joint probability.\n",
        "\"\"\"\n",
        "def probabilistic_strategy(word_list):\n",
        "  df = pd.DataFrame(map(list, word_list))\n",
        "  word_df = pd.DataFrame()\n",
        "  for col in df.columns:\n",
        "    word_df[col] = df[col] + (df[list(range(col + 1))] == pd.DataFrame([df[col].tolist()] * (col + 1)).T).sum(axis=1).astype(str)\n",
        "  rows = [word_df[column].value_counts() for column in df.columns]\n",
        "  probability_df = pd.DataFrame(rows).fillna(0).astype(int)\n",
        "\n",
        "  max_score = 0\n",
        "  total_score = 0\n",
        "  candidate = None\n",
        "  for row in word_df.itertuples():\n",
        "    index = list(row)[1:]\n",
        "    word = \"\".join([i for i in \"\".join(index) if not i.isdigit()])\n",
        "    score = np.diag(probability_df.loc[probability_df.index, index]).sum()\n",
        "    if (score > max_score) or (candidate is None) \\\n",
        "      or (score == max_score and FREQUENCY_DICT[word] > FREQUENCY_DICT[candidate]):\n",
        "      max_score = score\n",
        "      candidate = word\n",
        "    total_score += score\n",
        "  return candidate\n",
        "\n",
        "\"\"\"\n",
        "Chooses a random candidate word.\n",
        "\"\"\"\n",
        "def random_strategy(word_list):\n",
        "  return random.choice(word_list)"
      ]
    },
    {
      "cell_type": "code",
      "execution_count": 12,
      "metadata": {
        "id": "1Th3yOj2cOhw"
      },
      "outputs": [],
      "source": [
        "strategy_dict = {\n",
        "    \"PROBABILISTIC\": probabilistic_strategy,\n",
        "    \"RANDOM\":  random_strategy,\n",
        "    \"COMMON\": common_strategy,\n",
        "    #\"MINIMAX\": minimax_strategy,\n",
        "}"
      ]
    },
    {
      "cell_type": "markdown",
      "metadata": {
        "id": "8xd7vBEUNhVa"
      },
      "source": [
        "# Wordle Simulator"
      ]
    },
    {
      "cell_type": "code",
      "execution_count": 13,
      "metadata": {
        "colab": {
          "base_uri": "https://localhost:8080/",
          "height": 1000
        },
        "id": "YP3JRD5wJTBs",
        "outputId": "bddf2338-b1d6-422d-ee5f-be349e190feb"
      },
      "outputs": [
        {
          "output_type": "stream",
          "name": "stdout",
          "text": [
            "PROBABILISTIC 0 rounds 4 cigar 1\n",
            "PROBABILISTIC 500 rounds 4 enjoy 3\n",
            "PROBABILISTIC 1000 rounds 3 regal 1\n",
            "PROBABILISTIC 1500 rounds 5 dummy 1\n",
            "PROBABILISTIC 2000 rounds 3 bulky 3\n",
            "PROBABILISTIC AVERAGE: 3.6332613390928725 +/- 0.035645648505213394\n"
          ]
        },
        {
          "output_type": "display_data",
          "data": {
            "image/png": "[encoded data removed]",
            "text/plain": [
              "<Figure size 432x288 with 1 Axes>"
            ]
          },
          "metadata": {
            "needs_background": "light"
          }
        },
        {
          "output_type": "stream",
          "name": "stdout",
          "text": [
            "Hardest word(s):  ['boxer', 'hound']\n",
            "8 rounds \n",
            "RANDOM 0 rounds 3 cigar 1\n",
            "RANDOM 500 rounds 3 enjoy 11\n",
            "RANDOM 1000 rounds 4 regal 1\n",
            "RANDOM 1500 rounds 4 dummy 3\n",
            "RANDOM 2000 rounds 4 bulky 1\n",
            "RANDOM AVERAGE: 3.820302375809935 +/- 0.04015354202184115\n"
          ]
        },
        {
          "output_type": "display_data",
          "data": {
            "image/png": "[encoded data removed]",
            "text/plain": [
              "<Figure size 432x288 with 1 Axes>"
            ]
          },
          "metadata": {
            "needs_background": "light"
          }
        },
        {
          "output_type": "stream",
          "name": "stdout",
          "text": [
            "Hardest word(s):  ['pound', 'snore']\n",
            "8 rounds \n",
            "COMMON 0 rounds 2 cigar 102\n",
            "COMMON 500 rounds 3 enjoy 18\n",
            "COMMON 1000 rounds 5 regal 4\n",
            "COMMON 1500 rounds 4 dummy 2\n",
            "COMMON 2000 rounds 5 bulky 1\n",
            "COMMON AVERAGE: 3.8786177105831534 +/- 0.042534351010486776\n"
          ]
        },
        {
          "output_type": "display_data",
          "data": {
            "image/png": "[encoded data removed]",
            "text/plain": [
              "<Figure size 432x288 with 1 Axes>"
            ]
          },
          "metadata": {
            "needs_background": "light"
          }
        },
        {
          "output_type": "stream",
          "name": "stdout",
          "text": [
            "Hardest word(s):  ['tight', 'willy']\n",
            "8 rounds \n"
          ]
        }
      ],
      "source": [
        "PROD_TARGET = \"\"\n",
        "PROD_STRATEGY = \"\"\n",
        "INITIAL_GUESS = \"salet\"\n",
        "\n",
        "for name, strategy_fn in strategy_dict.items():\n",
        "  if PROD_STRATEGY and name != PROD_STRATEGY:\n",
        "    continue\n",
        "\n",
        "  results = []\n",
        "  for i, target in enumerate(ALL_CANDIDATES):\n",
        "    if PROD_TARGET and target != PROD_TARGET:\n",
        "      continue\n",
        "\n",
        "    word_df = pd.DataFrame(ALL_CANDIDATES, columns=[\"words\"])\n",
        "    candidate_df = pd.DataFrame(word_df[\"words\"].map(list).to_list())\n",
        "    counter = 0\n",
        "    while True:\n",
        "      if counter == 0:\n",
        "        word = INITIAL_GUESS\n",
        "      else:\n",
        "        word = strategy_fn(word_df.words.tolist())\n",
        "      counter += 1\n",
        "      assert target in word_df.words.tolist(), f\"{target} {word_df.words.tolist()}\"\n",
        "      result = evaluate(word, target)\n",
        "      if result == (2,2,2,2,2):\n",
        "        results.append([target, counter])\n",
        "        break\n",
        "\n",
        "      candidate_df = prune_wordle_candidates(candidate_df, word, result)\n",
        "      word_df = word_df.loc[candidate_df.index]\n",
        "      #print(f\"{name} {i} rounds {counter} {word} {target} {len(candidate_df)}\")\n",
        "    \n",
        "    if i % 500 == 0:\n",
        "      print(f\"{name} {i} rounds {counter} {target} {len(candidate_df)}\")\n",
        "  results_df = pd.DataFrame(results, columns=[\"target\", \"rounds\"])\n",
        "  print(f\"{name} AVERAGE: {results_df.rounds.mean()} +/- {2 * results_df.rounds.sem()}\")\n",
        "  counts_df = results_df.groupby(\"rounds\").count().reset_index()\n",
        "  plt.bar(counts_df[\"rounds\"], counts_df[\"target\"])\n",
        "  plt.show()\n",
        "  print(\"Hardest word(s): \", results_df.loc[results_df.rounds == results_df.rounds.max(), \"target\"].tolist())\n",
        "  print(f\"{results_df.rounds.max()} rounds \")"
      ]
    },
    {
      "cell_type": "markdown",
      "metadata": {
        "id": "plplzOFHNfnW"
      },
      "source": [
        "# Solver Program"
      ]
    },
    {
      "cell_type": "code",
      "execution_count": null,
      "metadata": {
        "colab": {
          "background_save": true,
          "base_uri": "https://localhost:8080/"
        },
        "id": "ewIrtEZ5rdCu",
        "outputId": "95e81a30-4dd9-476b-d28c-7b3d8b07d35c"
      },
      "outputs": [
        {
          "name": "stdout",
          "output_type": "stream",
          "text": [
            "\n",
            "Candidates remaining = 2315\n",
            "Best Candidate: crane\n"
          ]
        }
      ],
      "source": [
        "PROD_STRATEGY = \"PROBABILISTIC\"\n",
        "\n",
        "strategy_fn = strategy_dict[PROD_STRATEGY]\n",
        "word_df = pd.DataFrame(ALL_CANDIDATES, columns=[\"words\"])\n",
        "candidate_df = pd.DataFrame(word_df[\"words\"].map(list).to_list())\n",
        "counter = 0\n",
        "while True:\n",
        "  if len(word_df) == 0:\n",
        "      print(\"Something went wrong, there are no candidates left...\")\n",
        "      print(\"Aborting...\")\n",
        "      break\n",
        "\n",
        "  if counter == 0:\n",
        "    candidate = INITIAL_GUESS\n",
        "  else:\n",
        "    candidate = strategy_fn(word_df.words.tolist())\n",
        "  counter += 1\n",
        "  print(\n",
        "      f\"\\nCandidates remaining = {len(word_df)}\"\n",
        "      f\"\\nBest Candidate: {candidate}\")\n",
        "\n",
        "  # parse chosen word from user\n",
        "  is_valid_word = False\n",
        "  while not is_valid_word:\n",
        "    word = input(f\"\\nEnter your chosen five-letter word (i.e. {candidate}): \")\n",
        "    is_valid_word = (len(word) == 5)\n",
        "    if not is_valid_word:\n",
        "      print(\"Improper Input!\")\n",
        "\n",
        "  # parse chosen result from user\n",
        "  is_valid_result = False\n",
        "  while not is_valid_result:\n",
        "    result = input(\n",
        "        \"\\n0 = Miss, 1 = Partial Match, 2 = Perfect Match \"\n",
        "        \"\\nEnter your result as a comma-separated list \"\n",
        "        \"(i.e. 0,0,0,1,2): \")\n",
        "    result = tuple(map(int, \"\".join(result.split()).split(\",\")))\n",
        "    is_valid_result = (len(result) == 5) and all([i >= 0 and i <= 2 for i in result])\n",
        "    if not is_valid_result:\n",
        "      print(\"Improper Input!\")\n",
        "\n",
        "  # you won wordle\n",
        "  if all([i == 2 for i in result]):\n",
        "    print(f\"Congrats! The word was {word}\")\n",
        "    break\n",
        "\n",
        "  candidate_df = prune_wordle_candidates(candidate_df, word, result)\n",
        "  word_df = word_df.loc[candidate_df.index]"
      ]
    },
    {
      "cell_type": "code",
      "execution_count": null,
      "metadata": {
        "id": "L-5swgWglREM"
      },
      "outputs": [],
      "source": [
        ""
      ]
    }
  ],
  "metadata": {
    "colab": {
      "collapsed_sections": [],
      "name": "Wordle Solver.ipynb",
      "provenance": [],
      "authorship_tag": "ABX9TyOHZKh88I88UrhsW/L+L2BX",
      "include_colab_link": true
    },
    "kernelspec": {
      "display_name": "Python 3",
      "name": "python3"
    },
    "language_info": {
      "name": "python"
    }
  },
  "nbformat": 4,
  "nbformat_minor": 0
}